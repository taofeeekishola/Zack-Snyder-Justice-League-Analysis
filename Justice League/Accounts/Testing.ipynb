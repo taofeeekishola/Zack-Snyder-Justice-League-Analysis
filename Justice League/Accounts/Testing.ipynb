{
 "cells": [
  {
   "cell_type": "code",
   "execution_count": 13,
   "metadata": {},
   "outputs": [],
   "source": [
    "import pandas as pd"
   ]
  },
  {
   "cell_type": "code",
   "execution_count": 14,
   "metadata": {},
   "outputs": [],
   "source": [
    "# you can modify this as you wish\n",
    "def processor(row, input):\n",
    "   # count the number of times the input (substring) occurs in the Hashtags column of that row\n",
    "   return str(row['Hashtags']).lower().count(input)"
   ]
  },
  {
   "cell_type": "code",
   "execution_count": 15,
   "metadata": {},
   "outputs": [],
   "source": [
    "csv_input = pd.read_csv('Trial.csv')"
   ]
  },
  {
   "cell_type": "code",
   "execution_count": 16,
   "metadata": {},
   "outputs": [],
   "source": [
    "hashtag = \"#snydercut\"\n",
    "csv_input[hashtag] = csv_input.apply(lambda row: processor(row, hashtag), axis=1)\n",
    "\n",
    "hashtag1 = \"#zacksnydersjusticeleague\"\n",
    "csv_input[hashtag1] = csv_input.apply(lambda row: processor(row, hashtag1), axis=1)\n",
    "\n",
    "hashtag2 = \"#borglife\"\n",
    "csv_input[hashtag2] = csv_input.apply(lambda row: processor(row, hashtag2), axis=1)"
   ]
  },
  {
   "cell_type": "code",
   "execution_count": 17,
   "metadata": {},
   "outputs": [],
   "source": [
    "csv_input.to_csv('hastags.csv', index=False)"
   ]
  },
  {
   "cell_type": "code",
   "execution_count": null,
   "metadata": {},
   "outputs": [],
   "source": []
  }
 ],
 "metadata": {
  "kernelspec": {
   "display_name": "Python 3 (ipykernel)",
   "language": "python",
   "name": "python3"
  },
  "language_info": {
   "codemirror_mode": {
    "name": "ipython",
    "version": 3
   },
   "file_extension": ".py",
   "mimetype": "text/x-python",
   "name": "python",
   "nbconvert_exporter": "python",
   "pygments_lexer": "ipython3",
   "version": "3.9.7"
  }
 },
 "nbformat": 4,
 "nbformat_minor": 4
}
